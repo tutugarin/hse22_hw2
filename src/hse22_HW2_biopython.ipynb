{
  "nbformat": 4,
  "nbformat_minor": 0,
  "metadata": {
    "colab": {
      "provenance": [],
      "collapsed_sections": [
        "nuikKeO1bL7N",
        "ed-CWFY3cZK0",
        "D2UNiwEyet54",
        "Pr5GctSQxlsQ"
      ]
    },
    "kernelspec": {
      "name": "python3",
      "display_name": "Python 3"
    },
    "language_info": {
      "name": "python"
    }
  },
  "cells": [
    {
      "cell_type": "markdown",
      "source": [
        "# Скачиваем данные и устанавливаем программы"
      ],
      "metadata": {
        "id": "WJ71oQTxShEj"
      }
    },
    {
      "cell_type": "code",
      "source": [
        "!wget https://raw.githubusercontent.com/tutugarin/hse22_hw2/main/data/gms2.lst"
      ],
      "metadata": {
        "id": "fWSU9pxNTOSR",
        "colab": {
          "base_uri": "https://localhost:8080/"
        },
        "outputId": "5fa8ae63-b993-4835-9d3a-f45553eebb3c"
      },
      "execution_count": 1,
      "outputs": [
        {
          "output_type": "stream",
          "name": "stdout",
          "text": [
            "--2022-10-13 14:55:38--  https://raw.githubusercontent.com/tutugarin/hse22_hw2/main/data/gms2.lst\n",
            "Resolving raw.githubusercontent.com (raw.githubusercontent.com)... 185.199.109.133, 185.199.110.133, 185.199.111.133, ...\n",
            "Connecting to raw.githubusercontent.com (raw.githubusercontent.com)|185.199.109.133|:443... connected.\n",
            "HTTP request sent, awaiting response... 200 OK\n",
            "Length: 220954 (216K) [text/plain]\n",
            "Saving to: ‘gms2.lst’\n",
            "\n",
            "\rgms2.lst              0%[                    ]       0  --.-KB/s               \rgms2.lst            100%[===================>] 215.78K  --.-KB/s    in 0.005s  \n",
            "\n",
            "2022-10-13 14:55:38 (43.1 MB/s) - ‘gms2.lst’ saved [220954/220954]\n",
            "\n"
          ]
        }
      ]
    },
    {
      "cell_type": "code",
      "source": [
        "!wget https://raw.githubusercontent.com/tutugarin/hse22_hw2/main/data/scaffolds.fasta"
      ],
      "metadata": {
        "id": "yWoD0myNTVi8",
        "colab": {
          "base_uri": "https://localhost:8080/"
        },
        "outputId": "acd2bc36-60fa-491c-a701-96b79751d6f6"
      },
      "execution_count": 2,
      "outputs": [
        {
          "output_type": "stream",
          "name": "stdout",
          "text": [
            "--2022-10-13 14:55:38--  https://raw.githubusercontent.com/tutugarin/hse22_hw2/main/data/scaffolds.fasta\n",
            "Resolving raw.githubusercontent.com (raw.githubusercontent.com)... 185.199.110.133, 185.199.111.133, 185.199.109.133, ...\n",
            "Connecting to raw.githubusercontent.com (raw.githubusercontent.com)|185.199.110.133|:443... connected.\n",
            "HTTP request sent, awaiting response... 200 OK\n",
            "Length: 3965136 (3.8M) [text/plain]\n",
            "Saving to: ‘scaffolds.fasta’\n",
            "\n",
            "scaffolds.fasta     100%[===================>]   3.78M  --.-KB/s    in 0.02s   \n",
            "\n",
            "2022-10-13 14:55:38 (164 MB/s) - ‘scaffolds.fasta’ saved [3965136/3965136]\n",
            "\n"
          ]
        }
      ]
    },
    {
      "cell_type": "code",
      "source": [
        "!wget https://raw.githubusercontent.com/tutugarin/hse22_hw2/main/data/proteins.fasta"
      ],
      "metadata": {
        "id": "FkuulZekTbh9",
        "colab": {
          "base_uri": "https://localhost:8080/"
        },
        "outputId": "e824e5a1-f072-4b80-e40c-2fade4d56b49"
      },
      "execution_count": 3,
      "outputs": [
        {
          "output_type": "stream",
          "name": "stdout",
          "text": [
            "--2022-10-13 14:55:38--  https://raw.githubusercontent.com/tutugarin/hse22_hw2/main/data/proteins.fasta\n",
            "Resolving raw.githubusercontent.com (raw.githubusercontent.com)... 185.199.108.133, 185.199.109.133, 185.199.110.133, ...\n",
            "Connecting to raw.githubusercontent.com (raw.githubusercontent.com)|185.199.108.133|:443... connected.\n",
            "HTTP request sent, awaiting response... 200 OK\n",
            "Length: 1403407 (1.3M) [text/plain]\n",
            "Saving to: ‘proteins.fasta’\n",
            "\n",
            "proteins.fasta      100%[===================>]   1.34M  --.-KB/s    in 0.009s  \n",
            "\n",
            "2022-10-13 14:55:39 (146 MB/s) - ‘proteins.fasta’ saved [1403407/1403407]\n",
            "\n"
          ]
        }
      ]
    },
    {
      "cell_type": "code",
      "source": [
        "!wget https://raw.githubusercontent.com/tutugarin/hse22_hw2/main/data/scaffolds.hits_from_MIL_1.txt"
      ],
      "metadata": {
        "id": "wljcApdJTjGr",
        "colab": {
          "base_uri": "https://localhost:8080/"
        },
        "outputId": "6e11c617-a921-43d3-d261-d403a4efac0b"
      },
      "execution_count": 4,
      "outputs": [
        {
          "output_type": "stream",
          "name": "stdout",
          "text": [
            "--2022-10-13 14:55:39--  https://raw.githubusercontent.com/tutugarin/hse22_hw2/main/data/scaffolds.hits_from_MIL_1.txt\n",
            "Resolving raw.githubusercontent.com (raw.githubusercontent.com)... 185.199.111.133, 185.199.108.133, 185.199.110.133, ...\n",
            "Connecting to raw.githubusercontent.com (raw.githubusercontent.com)|185.199.111.133|:443... connected.\n",
            "HTTP request sent, awaiting response... 200 OK\n",
            "Length: 869002 (849K) [text/plain]\n",
            "Saving to: ‘scaffolds.hits_from_MIL_1.txt’\n",
            "\n",
            "scaffolds.hits_from 100%[===================>] 848.63K  --.-KB/s    in 0.006s  \n",
            "\n",
            "2022-10-13 14:55:39 (142 MB/s) - ‘scaffolds.hits_from_MIL_1.txt’ saved [869002/869002]\n",
            "\n"
          ]
        }
      ]
    },
    {
      "cell_type": "code",
      "source": [
        "!wget https://raw.githubusercontent.com/tutugarin/hse22_hw2/main/data/scaffolds.hits_from_SwissProt.txt"
      ],
      "metadata": {
        "id": "7ZGyVtAfTopz",
        "colab": {
          "base_uri": "https://localhost:8080/"
        },
        "outputId": "136abf85-5449-4030-a20a-56d24fabd6c5"
      },
      "execution_count": 5,
      "outputs": [
        {
          "output_type": "stream",
          "name": "stdout",
          "text": [
            "--2022-10-13 14:55:39--  https://raw.githubusercontent.com/tutugarin/hse22_hw2/main/data/scaffolds.hits_from_SwissProt.txt\n",
            "Resolving raw.githubusercontent.com (raw.githubusercontent.com)... 185.199.110.133, 185.199.108.133, 185.199.111.133, ...\n",
            "Connecting to raw.githubusercontent.com (raw.githubusercontent.com)|185.199.110.133|:443... connected.\n",
            "HTTP request sent, awaiting response... 200 OK\n",
            "Length: 65851 (64K) [text/plain]\n",
            "Saving to: ‘scaffolds.hits_from_SwissProt.txt’\n",
            "\n",
            "\r          scaffolds   0%[                    ]       0  --.-KB/s               \rscaffolds.hits_from 100%[===================>]  64.31K  --.-KB/s    in 0.001s  \n",
            "\n",
            "2022-10-13 14:55:39 (52.3 MB/s) - ‘scaffolds.hits_from_SwissProt.txt’ saved [65851/65851]\n",
            "\n"
          ]
        }
      ]
    },
    {
      "cell_type": "markdown",
      "metadata": {
        "id": "EkEflOHmCHHW"
      },
      "source": [
        "## Скачиваем геном близкородственной бактерии T.oleivorans"
      ]
    },
    {
      "cell_type": "markdown",
      "metadata": {
        "id": "noBYTW1bRH9O"
      },
      "source": [
        "Геном, последовательности генов (нт) и белков (протеом) для бактерии Thalassolituus oleivorans MIL-1\n",
        "https://www.ncbi.nlm.nih.gov/nuccore/HF680312"
      ]
    },
    {
      "cell_type": "code",
      "source": [
        "!sh -c \"$(curl -fsSL ftp://ftp.ncbi.nlm.nih.gov/entrez/entrezdirect/install-edirect.sh)\""
      ],
      "metadata": {
        "id": "bqv3FR5efmk6",
        "colab": {
          "base_uri": "https://localhost:8080/"
        },
        "outputId": "52ce56db-3ab3-441b-a57d-686d6425ade5"
      },
      "execution_count": 6,
      "outputs": [
        {
          "output_type": "stream",
          "name": "stdout",
          "text": [
            "\n",
            "Entrez Direct has been successfully downloaded and installed.\n",
            "\n",
            "In order to complete the configuration process, please execute the following:\n",
            "\n",
            "  echo \"export PATH=\\${PATH}:/root/edirect\" >> ${HOME}/.bashrc\n",
            "\n",
            "or manually edit the PATH variable assignment in your .bashrc file.\n",
            "\n",
            "Would you like to do that automatically now? [y/N]\n",
            "y\n",
            "OK, done.\n",
            "\n",
            "To activate EDirect for this terminal session, please execute the following:\n",
            "\n",
            "export PATH=${PATH}:${HOME}/edirect\n",
            "\n"
          ]
        }
      ]
    },
    {
      "cell_type": "code",
      "source": [
        "!$HOME/edirect/efetch -db nuccore -id HF680312 -format gb  >  T_oleivorans_MIL_1.gbk"
      ],
      "metadata": {
        "id": "4O3-rUx4fvbw"
      },
      "execution_count": 7,
      "outputs": []
    },
    {
      "cell_type": "code",
      "metadata": {
        "id": "j2uga-mieSB6",
        "colab": {
          "base_uri": "https://localhost:8080/"
        },
        "outputId": "0e9b29ca-f20c-465b-ffbe-c635cee18083"
      },
      "source": [
        "!pip install biopython"
      ],
      "execution_count": 8,
      "outputs": [
        {
          "output_type": "stream",
          "name": "stdout",
          "text": [
            "Looking in indexes: https://pypi.org/simple, https://us-python.pkg.dev/colab-wheels/public/simple/\n",
            "Collecting biopython\n",
            "  Downloading biopython-1.79-cp37-cp37m-manylinux_2_17_x86_64.manylinux2014_x86_64.whl (2.6 MB)\n",
            "\u001b[K     |████████████████████████████████| 2.6 MB 19.9 MB/s \n",
            "\u001b[?25hRequirement already satisfied: numpy in /usr/local/lib/python3.7/dist-packages (from biopython) (1.21.6)\n",
            "Installing collected packages: biopython\n",
            "Successfully installed biopython-1.79\n"
          ]
        }
      ]
    },
    {
      "cell_type": "markdown",
      "source": [
        "## Аннотация генома (пример)"
      ],
      "metadata": {
        "id": "EJIw_JDLUgt5"
      }
    },
    {
      "cell_type": "markdown",
      "source": [
        "Biopython Tutorial: http://biopython.org/DIST/docs/tutorial/Tutorial.html"
      ],
      "metadata": {
        "id": "qhxlclhoYhBh"
      }
    },
    {
      "cell_type": "code",
      "source": [
        "!head -n 20 gms2.lst"
      ],
      "metadata": {
        "id": "G33GF-iGU9Ka",
        "colab": {
          "base_uri": "https://localhost:8080/"
        },
        "outputId": "9aca7a34-ab15-4593-9224-4ccba1bc8d4d"
      },
      "execution_count": 9,
      "outputs": [
        {
          "output_type": "stream",
          "name": "stdout",
          "text": [
            "# GeneMark.hmm-2 LST format\n",
            "# GeneMark.hmm-2 prokaryotic version: 1.25_lic\n",
            "# File with sequence: scaffolds.fasta\n",
            "# File with native parameters: GMS2.mod\n",
            "# Native species name and build: unspecified GeneMarkS-2-1.14_1.25_lic\n",
            "# File with MetaGeneMark parameters: /content/gms2_linux_64/mgm_11.mod\n",
            "# translation table: 11\n",
            "# output date start: Thu Oct 13 14:22:21 2022\n",
            "\n",
            "# sequence-region 1 3873035\n",
            "SequenceID: scaffold1_cov283\n",
            "     1   +    575    1237     663 native ATAGAG 6 1\n",
            "     2   +    1238    1942     705 native TACGAG 9 1\n",
            "     3   -    1958    2920     963 native ATGGAG 11 1\n",
            "     4   -    2917    3765     849 native TTGGTT 3 1\n",
            "     5   +    3892    4239     348 native TAGGTG 4 1\n",
            "     6   +    4232    4642     411 native ATCGAT 4 1\n",
            "     7   +    4642    5547     906 native GAGGCC 8 1\n",
            "     8   +    5665    6855    1191 native AAGGCT 6 1\n",
            "     9   +    6877    7782     906 native AAGGAA 5 1\n"
          ]
        }
      ]
    },
    {
      "cell_type": "markdown",
      "source": [
        "Для примера проаннотируем два коротких скаффолда (scaffold3_cov275 и scaffold9_cov256):\n",
        "\n"
      ],
      "metadata": {
        "id": "OKK4GsdqZPZ6"
      }
    },
    {
      "cell_type": "code",
      "metadata": {
        "id": "1hegJvwMIiPe"
      },
      "source": [
        "from Bio import SeqIO\n",
        "\n",
        "for record in SeqIO.parse(\"/content/scaffolds.fasta\", \"fasta\"):\n",
        "  if record.id == 'scaffold3_cov275':\n",
        "    record_sc3 = record\n",
        "  if record.id == 'scaffold9_cov256':\n",
        "    record_sc9 = record"
      ],
      "execution_count": 10,
      "outputs": []
    },
    {
      "cell_type": "code",
      "source": [
        "record_sc3"
      ],
      "metadata": {
        "id": "dqUNHl5XuVh_",
        "colab": {
          "base_uri": "https://localhost:8080/"
        },
        "outputId": "d93f2908-f01c-40cc-995c-f4fff38e9789"
      },
      "execution_count": 11,
      "outputs": [
        {
          "output_type": "execute_result",
          "data": {
            "text/plain": [
              "SeqRecord(seq=Seq('TTTTAGCACCTCCTATTACGCGACCGGAATTAGTTTGCCACTACAGAACATTCA...GTA'), id='scaffold3_cov275', name='scaffold3_cov275', description='scaffold3_cov275', dbxrefs=[])"
            ]
          },
          "metadata": {},
          "execution_count": 11
        }
      ]
    },
    {
      "cell_type": "code",
      "source": [
        "record_sc3.id"
      ],
      "metadata": {
        "id": "eLKgrJ5vaH_t",
        "colab": {
          "base_uri": "https://localhost:8080/",
          "height": 36
        },
        "outputId": "4ca63a1d-2a71-4270-dec5-84ab7948b4fd"
      },
      "execution_count": 13,
      "outputs": [
        {
          "output_type": "execute_result",
          "data": {
            "text/plain": [
              "'scaffold3_cov275'"
            ],
            "application/vnd.google.colaboratory.intrinsic+json": {
              "type": "string"
            }
          },
          "metadata": {},
          "execution_count": 13
        }
      ]
    },
    {
      "cell_type": "code",
      "source": [
        "len(record_sc3)"
      ],
      "metadata": {
        "id": "FLjqnjyJaUVf",
        "colab": {
          "base_uri": "https://localhost:8080/"
        },
        "outputId": "5781d8a2-65bb-4555-8145-d39695344dde"
      },
      "execution_count": 14,
      "outputs": [
        {
          "output_type": "execute_result",
          "data": {
            "text/plain": [
              "3378"
            ]
          },
          "metadata": {},
          "execution_count": 14
        }
      ]
    },
    {
      "cell_type": "code",
      "source": [
        "record_sc9.id"
      ],
      "metadata": {
        "id": "NGe-fVkeaKoe",
        "colab": {
          "base_uri": "https://localhost:8080/",
          "height": 36
        },
        "outputId": "2bec8a81-c222-47d2-8715-97a9f36c348a"
      },
      "execution_count": 15,
      "outputs": [
        {
          "output_type": "execute_result",
          "data": {
            "text/plain": [
              "'scaffold9_cov256'"
            ],
            "application/vnd.google.colaboratory.intrinsic+json": {
              "type": "string"
            }
          },
          "metadata": {},
          "execution_count": 15
        }
      ]
    },
    {
      "cell_type": "code",
      "source": [
        "len(record_sc9)"
      ],
      "metadata": {
        "id": "IYFdz8_WaX7t",
        "colab": {
          "base_uri": "https://localhost:8080/"
        },
        "outputId": "cfdeff76-3d29-4f3a-d398-49e3de63b9b1"
      },
      "execution_count": 16,
      "outputs": [
        {
          "output_type": "execute_result",
          "data": {
            "text/plain": [
              "4664"
            ]
          },
          "metadata": {},
          "execution_count": 16
        }
      ]
    },
    {
      "cell_type": "code",
      "source": [
        "record_sc3.annotations['molecule_type'] = 'DNA'\n",
        "record_sc9.annotations['molecule_type'] = 'DNA'"
      ],
      "metadata": {
        "id": "IilT-kkKXC8A"
      },
      "execution_count": 17,
      "outputs": []
    },
    {
      "cell_type": "code",
      "source": [
        "record_sc3.format(\"genbank\")"
      ],
      "metadata": {
        "id": "XaLONTVNaxZu",
        "colab": {
          "base_uri": "https://localhost:8080/",
          "height": 122
        },
        "outputId": "d190fbeb-8c63-4125-fe5a-cb2113991ee6"
      },
      "execution_count": 18,
      "outputs": [
        {
          "output_type": "execute_result",
          "data": {
            "text/plain": [
              "'LOCUS       scaffold3_cov275        3378 bp    DNA              UNK 01-JAN-1980\\nDEFINITION  scaffold3_cov275.\\nACCESSION   scaffold3_cov275\\nVERSION     scaffold3_cov275\\nKEYWORDS    .\\nSOURCE      .\\n  ORGANISM  .\\n            .\\nFEATURES             Location/Qualifiers\\nORIGIN\\n        1 ttttagcacc tcctattacg cgaccggaat tagtttgcca ctacagaaca ttcaacatcg\\n       61 acagcattat catcatttat taatttaaac ttttcctcca tatctcgcgc acgtcgagaa\\n      121 agacgaacgg ctcccattgt tccggcagca ccctttaacg tatgtagggc tttcgtgctt\\n      181 tcatgccatt gtttagtctg ccaacacaga gcaacttcct caatgattgt ttgcatttct\\n      241 actacaaaca tactctgcat tcttttaaat aggttcttat tattattgaa tcttcgcaga\\n      301 agacttaact tatcttcaat caattcataa gcgctatcgt tcgtcgatac atttttatcc\\n      361 tcagttgacg ttcccatgcc caccaataag accgtattta ctagctcttc aagatcaact\\n      421 ggtttactga tatgagcgtt cattccaacc gcagcacaag cctcacggtc ttctaatgac\\n      481 acattagccg tcatagccac gatggggaga ttattccaac ggccatcagc acgaattctt\\n      541 cgtgtggctt ctaagccatc gatatcgggc atttgaatat ccataagaac aaggtcataa\\n      601 acacaagtgc ctgatatgac tttatctacc ccctcaatcc cgcctgtcgc taaatccacg\\n      661 ttagcgccct cggcagctaa aagttcataa gctatttcac gattaataat attatcttct\\n      721 accactaaca agtgcttacc ctttaaacgc tgcaaacgtc cattgttttc gactacagga\\n      781 ttttcccgat tattcaacac tcgctctacc gattcagata actgcaaagg tgtaatcggt\\n      841 ttacttaaaa agtcactata aactggtatg tcatcgccaa attcattccc gattaatgcc\\n      901 cgtccatatg cacttataat aataattttt ggagcatctt cgcccatcaa gttaacgatc\\n      961 gactgcgcaa catcatcgcc attaatatcc ggcaactgca aatatactcg acgtttattt\\n     1021 caggaggtaa agctttttct ggagcactgt ctaagtcata cattgcccaa tgattagcta\\n     1081 tgattggaga ctttgagcat aaatattctt tagtattttt cttatttttc taatatcaat\\n     1141 agactcaacg ctggaatgaa aagctttgcg ataccagctt gatgagtaag gaccaaaggg\\n     1201 ctttattaac attgatcgat gagggccccg cccagaatct cctccaccaa atggtttcta\\n     1261 gcatccaaca tctgccgtgt acatccttaa tcgtaaaaac tgaagtacta tggaattaca\\n     1321 actttttaat gatttttaat acacatcaat cacaagaacc agggagtatt gattgctgac\\n     1381 acctcacgaa gacctttcaa ggctctatcg aggctttcac ctcgaccaga ccgatatgca\\n     1441 aggaagatag gataagtaaa ttcatcggag tcaggcatac gaatcagcct tccgttatcg\\n     1501 aggtaaggct gtaccacacg actacgaaac cacccattac cgccaacagc aagcataaac\\n     1561 tgcaaagctg caggtccgaa attaaaagag tatgcacttt gttctcgcga cgctaacgag\\n     1621 gctaaatact gtttctctac acccctaccc cagtcgatat aaatgtctgg ctcagccccc\\n     1681 agaggactct gcacacgaat tagcttttcc tccaacaatt gctccacaca acacccagca\\n     1741 aagtaattag gtcgatgcaa aatgacagca tctaaatgcc cctcttccat cgctcgattc\\n     1801 aggtcattag cttcagcgac ggaggcatcg accgcgacct ccggcagctc agcctccaac\\n     1861 caagataccc actgcgtcag aagaggattc cataatgtcg cttcactgcc caatctgaga\\n     1921 cgttcagtat gcccttcagg aatagctatg ctctgacgag ccctgcccca agcggaaatg\\n     1981 atcgtatttg catagggcag aaagcgctct ccctccggag tgagagacgc gcctgcccgg\\n     2041 ttacggacaa acaagcgagc gcccatcgaa tcttcaaggc tacgtattct ggcagtgacc\\n     2101 gctgcttgtg tgacgtgaag gctttctgct gctcgaacaa aacttccagc ataaacaacc\\n     2161 tcaagaaaag tacgaactag gacagcgtcc atatttgatc actttatatt aaatttattt\\n     2221 atataaagta caataattta tcatttatta aaaatattaa gaccatatat agtgcatcgc\\n     2281 attcctacta gcggagtgta agcatgaatc tgaacgttat tagtcttctc gcgatgagca\\n     2341 tttcaacaac tctcgtactt gtctgtttag ccatcgtgac gatctttgag caatcattac\\n     2401 ctattcatct tctggtagcg ggtcatggca ctgccatggt cagcgcggta ggcatcaaac\\n     2461 taggctacat ccttcgtctt cagtaccaag cgcaacaaaa acgatgaaaa gaaattcttt\\n     2521 actgatatat agcgtgcttc attatctagg agttcagtct gatacaacat cccacacaga\\n     2581 gaagctaatt tctggaatcg gagcggcagt aggtattctc gccatatata gcgtgctcag\\n     2641 tgcatacccc accaaccacc cccttacatt ggtcatggca tcggtcgcag catctgcagt\\n     2701 attggtattt gcagtaccgc atggtgcgct ctcgcaacca tggcctgtca tgggaagtta\\n     2761 cttaacatca gctgccctgg gagtcacgtg tagccactgg attcagcatg atgcggcggc\\n     2821 tgcagtaacc gctgtcggct tttcggtcat atgcatgcac tatcttcgct gtcttcaccc\\n     2881 acccggggca gcggttgcac tggtcgcagt cactggtggg gccgatattg aggcaatggg\\n     2941 atatcagttc attatggtac ctgcgttatt aaacgctggc acactagtcg gtgcggctgt\\n     3001 catatacaac tatgcctatc catggcgacg ctacccggta ccactggtgt atcacacgcc\\n     3061 gcatccccac ccttcaatta gcgaaaacaa cctaattgaa ttgactgtgg aagattatca\\n     3121 gtacgcgcta cgccaacaag attcatttat tgatatcagt cccgaggatt tagcagagct\\n     3181 agtggaatgc gcacgcgaac acgcccttag ctaccaaagc tcagcctcca caacaaccga\\n     3241 cacacagcct catcctcagt cgtaataacg acatcgacaa caactaacta catacagaga\\n     3301 tcattcatgc taaacactca ccaaattaat atctgaatcg cccctagttt cttagacact\\n     3361 ctttaaagtt acaatgta\\n//\\n'"
            ],
            "application/vnd.google.colaboratory.intrinsic+json": {
              "type": "string"
            }
          },
          "metadata": {},
          "execution_count": 18
        }
      ]
    },
    {
      "cell_type": "code",
      "source": [
        "SeqIO.write([record_sc3, record_sc9], \"GENOME.gbk\", \"genbank\")"
      ],
      "metadata": {
        "id": "4mv05veKXHWo",
        "colab": {
          "base_uri": "https://localhost:8080/"
        },
        "outputId": "44e01a43-84c9-48e0-dc45-2a24cfa5c9c6"
      },
      "execution_count": 19,
      "outputs": [
        {
          "output_type": "execute_result",
          "data": {
            "text/plain": [
              "2"
            ]
          },
          "metadata": {},
          "execution_count": 19
        }
      ]
    },
    {
      "cell_type": "markdown",
      "source": [
        "## Добавляем координаты генов"
      ],
      "metadata": {
        "id": "nuikKeO1bL7N"
      }
    },
    {
      "cell_type": "markdown",
      "source": [
        "```\n",
        "SequenceID: scaffold3_cov275\n",
        "  3535   -    30    1001     972 atypical GTCGAG 5 1\n",
        "  3536   -    1350    2192     843 native AAAGTG 7 1\n",
        "  3537   +    2304    2507     204 native GCGGAG 7 1\n",
        "  3538   -    2554    2751     198 native TAAGTA 7 1\n",
        "  3539   +    2855    3265     411 native TCGGTC 6 1\n",
        "```"
      ],
      "metadata": {
        "id": "lR-FjFgRba09"
      }
    },
    {
      "cell_type": "code",
      "metadata": {
        "id": "4cXKMhtmYZ9t"
      },
      "source": [
        "from pprint import pprint\n",
        "from Bio.SeqFeature import SeqFeature, FeatureLocation\n",
        "\n",
        "sc3_f1 = SeqFeature(FeatureLocation(30, 1001, strand=-1), type=\"CDS\")\n",
        "sc3_f1.qualifiers['locus_tag'] = ['3535']\n",
        "\n",
        "sc3_f2 = SeqFeature(FeatureLocation(1350, 2192, strand=-1), type=\"CDS\")\n",
        "sc3_f2.qualifiers['locus_tag'] = ['3536']\n",
        "\n",
        "sc3_f3 = SeqFeature(FeatureLocation(2304, 2507, strand=1), type=\"CDS\")\n",
        "sc3_f3.qualifiers['locus_tag'] = ['3537']"
      ],
      "execution_count": 20,
      "outputs": []
    },
    {
      "cell_type": "code",
      "source": [
        "pprint(vars(sc3_f1))"
      ],
      "metadata": {
        "id": "bLUbuampdB-i",
        "colab": {
          "base_uri": "https://localhost:8080/"
        },
        "outputId": "97a87a9c-09e3-45eb-fad3-2a547ed81133"
      },
      "execution_count": 21,
      "outputs": [
        {
          "output_type": "stream",
          "name": "stdout",
          "text": [
            "{'id': '<unknown id>',\n",
            " 'location': FeatureLocation(ExactPosition(30), ExactPosition(1001), strand=-1),\n",
            " 'qualifiers': OrderedDict([('locus_tag', ['3535'])]),\n",
            " 'type': 'CDS'}\n"
          ]
        }
      ]
    },
    {
      "cell_type": "code",
      "source": [
        "record_sc3.features = [sc3_f1, sc3_f2, sc3_f3]"
      ],
      "metadata": {
        "id": "LpU8776ZvUbo"
      },
      "execution_count": 22,
      "outputs": []
    },
    {
      "cell_type": "code",
      "source": [
        "SeqIO.write([record_sc3, record_sc9], \"GENOME.gbk\", \"genbank\")"
      ],
      "metadata": {
        "id": "GoDauTDCvcdM",
        "colab": {
          "base_uri": "https://localhost:8080/"
        },
        "outputId": "ebcf451e-58f4-4a7a-cd39-bb1d32dbd452"
      },
      "execution_count": 23,
      "outputs": [
        {
          "output_type": "execute_result",
          "data": {
            "text/plain": [
              "2"
            ]
          },
          "metadata": {},
          "execution_count": 23
        }
      ]
    },
    {
      "cell_type": "markdown",
      "source": [
        "## Добавляем трансляции генов (аминокислотные посл-ти)"
      ],
      "metadata": {
        "id": "ed-CWFY3cZK0"
      }
    },
    {
      "cell_type": "code",
      "source": [
        "all_feats = [sc3_f1, sc3_f2, sc3_f3]\n",
        "for record in SeqIO.parse(\"proteins.fasta\", \"fasta\"):\n",
        "  for f in all_feats:\n",
        "    if record.id == f.qualifiers['locus_tag'][0]:\n",
        "      f.qualifiers['translation'] = [record.seq]"
      ],
      "metadata": {
        "id": "lmT1wp0Bcnlq"
      },
      "execution_count": 24,
      "outputs": []
    },
    {
      "cell_type": "code",
      "source": [
        "record_sc3.features = [sc3_f1, sc3_f2, sc3_f3]"
      ],
      "metadata": {
        "id": "O7npTyvav-yI"
      },
      "execution_count": 25,
      "outputs": []
    },
    {
      "cell_type": "code",
      "source": [
        "SeqIO.write([record_sc3, record_sc9], \"GENOME.gbk\", \"genbank\")"
      ],
      "metadata": {
        "id": "AZfod3Pcv-yP",
        "colab": {
          "base_uri": "https://localhost:8080/"
        },
        "outputId": "3708a650-7241-41bc-9b2d-203113a1042c"
      },
      "execution_count": 26,
      "outputs": [
        {
          "output_type": "execute_result",
          "data": {
            "text/plain": [
              "2"
            ]
          },
          "metadata": {},
          "execution_count": 26
        }
      ]
    },
    {
      "cell_type": "code",
      "source": [
        "pprint(vars(sc3_f1))"
      ],
      "metadata": {
        "id": "8ylsrwLOeeOk",
        "colab": {
          "base_uri": "https://localhost:8080/"
        },
        "outputId": "13140b4d-63a9-4f79-a1e0-60b67414cf5c"
      },
      "execution_count": 27,
      "outputs": [
        {
          "output_type": "stream",
          "name": "stdout",
          "text": [
            "{'id': '<unknown id>',\n",
            " 'location': FeatureLocation(ExactPosition(30), ExactPosition(1001), strand=-1),\n",
            " 'qualifiers': OrderedDict([('locus_tag', ['3535']),\n",
            "                            ('translation',\n",
            "                             [Seq('LQLPDINGDDVAQSIVNLMGEDAPKIIIISAYGRALIGNEFGDDIPVYSDFLSK...VAN')])]),\n",
            " 'type': 'CDS'}\n"
          ]
        }
      ]
    },
    {
      "cell_type": "markdown",
      "source": [
        "## Добавляем функции белков (из бактерии MIL-1)"
      ],
      "metadata": {
        "id": "D2UNiwEyet54"
      }
    },
    {
      "cell_type": "markdown",
      "source": [
        "Часть файла scaffolds.hits_from_MIL_1.txt:\n",
        "```\n",
        "3535\tlcl|HF680312.1_prot_CCU72326.1_1877\t99.054\t317\t3\t0\t3\t319\t1\t317\t0.0\t644\n",
        "3535\tlcl|HF680312.1_prot_CCU72392.1_1943\t34.583\t240\t138\t5\t85\t307\t956\t1193\t2.33e-30\t118\n",
        "3535\tlcl|HF680312.1_prot_CCU72759.1_2310\t27.667\t300\t188\t8\t8\t302\t709\t984\t1.02e-24\t101\n",
        "3535\tlcl|HF680312.1_prot_CCU70543.1_94\t42.857\t126\t71\t1\t79\t204\t798\t922\t5.63e-24\t99.4\n",
        "3535\tlcl|HF680312.1_prot_CCU70690.1_241\t26.140\t329\t205\t10\t2\t303\t591\t908\t6.26e-23\t96.7\n",
        "3535\tlcl|HF680312.1_prot_CCU74013.1_3564\t38.462\t130\t76\t3\t91\t219\t685\t811\t4.96e-20\t87.8\n",
        "3535\tlcl|HF680312.1_prot_CCU71475.1_1026\t36.522\t115\t71\t2\t86\t200\t555\t667\t2.19e-16\t76.6\n",
        "3535\tlcl|HF680312.1_prot_CCU71362.1_913\t24.535\t269\t187\t3\t52\t306\t633\t899\t2.61e-14\t70.5\n",
        "3535\tlcl|HF680312.1_prot_CCU70724.1_275\t30.534\t131\t81\t3\t78\t205\t1983\t2106\t6.54e-13\t66.2\n",
        "3535\tlcl|HF680312.1_prot_CCU70719.1_270\t26.087\t115\t83\t1\t90\t204\t15\t127\t9.14e-12\t58.5\n",
        "3535\tlcl|HF680312.1_prot_CCU72006.1_1557\t35.652\t115\t68\t3\t87\t200\t421\t530\t1.06e-11\t62.0\n",
        "3535\tlcl|HF680312.1_prot_CCU72513.1_2064\t33.628\t113\t72\t1\t91\t200\t766\t878\t1.22e-11\t62.4\n",
        "3536\tlcl|HF680312.1_prot_CCU72327.1_1878\t100.000\t280\t0\t0\t1\t280\t1\t280\t0.0\t570\n",
        "3536\tlcl|HF680312.1_prot_CCU72858.1_2409\t27.437\t277\t181\t4\t10\t272\t1\t271\t1.82e-26\t101\n",
        "3537\tlcl|HF680312.1_prot_CCU72328.1_1879\t100.000\t67\t0\t0\t1\t67\t1\t67\t9.75e-44\t132\n",
        "```"
      ],
      "metadata": {
        "id": "tCFpL_GLfDzJ"
      }
    },
    {
      "cell_type": "code",
      "source": [
        "sc3_f1.qualifiers['note'] = ['CCU72326.1']\n",
        "sc3_f2.qualifiers['note'] = ['CCU72327.1']\n",
        "sc3_f3.qualifiers['note'] = ['CCU72328.1']"
      ],
      "metadata": {
        "id": "L8dFyRiakGm2"
      },
      "execution_count": 28,
      "outputs": []
    },
    {
      "cell_type": "code",
      "source": [
        "pprint(sc3_f1.qualifiers)"
      ],
      "metadata": {
        "id": "QKxmGI7gkgKz",
        "colab": {
          "base_uri": "https://localhost:8080/"
        },
        "outputId": "7b36a168-8018-49f4-b031-998333509cd2"
      },
      "execution_count": 29,
      "outputs": [
        {
          "output_type": "stream",
          "name": "stdout",
          "text": [
            "OrderedDict([('locus_tag', ['3535']),\n",
            "             ('translation',\n",
            "              [Seq('LQLPDINGDDVAQSIVNLMGEDAPKIIIISAYGRALIGNEFGDDIPVYSDFLSK...VAN')]),\n",
            "             ('note', ['CCU72326.1'])])\n"
          ]
        }
      ]
    },
    {
      "cell_type": "code",
      "source": [
        "mil_1_genome = SeqIO.read(\"/content/T_oleivorans_MIL_1.gbk\", \"genbank\")"
      ],
      "metadata": {
        "id": "MxKSgTvihLIY"
      },
      "execution_count": 30,
      "outputs": []
    },
    {
      "cell_type": "code",
      "metadata": {
        "id": "4EDCGDdmZt8O"
      },
      "source": [
        "for  mil_f in mil_1_genome.features:\n",
        "  if 'protein_id' not in mil_f.qualifiers:\n",
        "    continue\n",
        "    \n",
        "  for f in all_feats:\n",
        "    if f.qualifiers['note'][0] == mil_f.qualifiers['protein_id'][0]:\n",
        "      f.qualifiers['product'] = mil_f.qualifiers['product']"
      ],
      "execution_count": 31,
      "outputs": []
    },
    {
      "cell_type": "code",
      "source": [
        "pprint(sc3_f1.qualifiers)"
      ],
      "metadata": {
        "id": "eK-3-vRCxHEP",
        "colab": {
          "base_uri": "https://localhost:8080/"
        },
        "outputId": "f6062a46-bf82-41ed-b03a-0911c84803a3"
      },
      "execution_count": 32,
      "outputs": [
        {
          "output_type": "stream",
          "name": "stdout",
          "text": [
            "OrderedDict([('locus_tag', ['3535']),\n",
            "             ('translation',\n",
            "              [Seq('LQLPDINGDDVAQSIVNLMGEDAPKIIIISAYGRALIGNEFGDDIPVYSDFLSK...VAN')]),\n",
            "             ('note', ['CCU72326.1']),\n",
            "             ('product', ['sensor/response regulator hybrid'])])\n"
          ]
        }
      ]
    },
    {
      "cell_type": "code",
      "source": [
        "record_sc3.features = [sc3_f1, sc3_f2, sc3_f3]\n",
        "SeqIO.write([record_sc3, record_sc9], \"GENOME.gbk\", \"genbank\")"
      ],
      "metadata": {
        "id": "KHcrRw4HxTzk",
        "colab": {
          "base_uri": "https://localhost:8080/"
        },
        "outputId": "e842db09-1703-442f-8b0b-3642fd1a5e45"
      },
      "execution_count": 33,
      "outputs": [
        {
          "output_type": "execute_result",
          "data": {
            "text/plain": [
              "2"
            ]
          },
          "metadata": {},
          "execution_count": 33
        }
      ]
    },
    {
      "cell_type": "markdown",
      "source": [
        "## Добавляем функции белков (из БД SwissProt)"
      ],
      "metadata": {
        "id": "Pr5GctSQxlsQ"
      }
    },
    {
      "cell_type": "markdown",
      "source": [
        "Читаем информацию из файла scaffolds.hits_from_SwissProt.txt"
      ],
      "metadata": {
        "id": "xLafv2r8xo6P"
      }
    },
    {
      "cell_type": "code",
      "source": [
        "!head scaffolds.hits_from_SwissProt.txt"
      ],
      "metadata": {
        "id": "_bHOMEqhxvDd",
        "colab": {
          "base_uri": "https://localhost:8080/"
        },
        "outputId": "c4c8c779-8093-4d91-8a99-a528ff4ed3ae"
      },
      "execution_count": 34,
      "outputs": [
        {
          "output_type": "stream",
          "name": "stdout",
          "text": [
            "103\tsp|Q58577|Y1178_METJA\t30.055\t366\t192\t15\t1\t336\t4\t335\t2.97e-28\t115\n",
            "103\tsp|Q81ST7|BSHA_BACAN\t29.097\t299\t168\t10\t63\t335\t77\t357\t2.74e-22\t100\n",
            "103\tsp|P9WMZ3|PIMB_MYCTU\t28.689\t244\t148\t6\t113\t336\t130\t367\t3.03e-21\t97.1\n",
            "103\tsp|P9WMZ2|PIMB_MYCTO\t28.689\t244\t148\t6\t113\t336\t130\t367\t3.03e-21\t97.1\n",
            "103\tsp|O32272|TUAC_BACSU\t25.313\t399\t230\t11\t1\t348\t1\t382\t8.09e-21\t95.9\n",
            "103\tsp|Q59002|Y1607_METJA\t28.523\t298\t181\t10\t67\t340\t84\t373\t1.72e-18\t89.4\n",
            "103\tsp|Q8NTA6|MSHA_CORGL\t30.147\t272\t160\t13\t103\t352\t144\t407\t1.34e-17\t86.7\n",
            "103\tsp|A4QB40|MSHA_CORGB\t30.147\t272\t160\t13\t103\t352\t144\t407\t1.34e-17\t86.7\n",
            "103\tsp|A7TZT2|MFPS_AGRFC\t26.400\t250\t160\t6\t106\t336\t177\t421\t9.87e-17\t84.3\n",
            "103\tsp|Q8FSH1|MSHA_COREF\t29.588\t267\t156\t12\t106\t349\t147\t404\t3.79e-16\t82.4\n"
          ]
        }
      ]
    },
    {
      "cell_type": "markdown",
      "source": [
        "product = 'Similar to SwissProt protein Y1178_METJA (E-value = 2.95e-28)'"
      ],
      "metadata": {
        "id": "UykENPFgyIQu"
      }
    },
    {
      "cell_type": "markdown",
      "source": [
        "Получить функции белков SwissProt из файла: https://ftp.uniprot.org/pub/databases/uniprot/current_release/knowledgebase/complete/uniprot_sprot.dat.gz"
      ],
      "metadata": {
        "id": "HWWUeHCdyAdb"
      }
    },
    {
      "cell_type": "code",
      "source": [
        "!wget https://ftp.uniprot.org/pub/databases/uniprot/current_release/knowledgebase/complete/uniprot_sprot.dat.gz"
      ],
      "metadata": {
        "colab": {
          "base_uri": "https://localhost:8080/"
        },
        "id": "tTRJ0KfnWIdt",
        "outputId": "8534c5d6-c0a5-42e3-ba0a-8d16aca42a84"
      },
      "execution_count": 35,
      "outputs": [
        {
          "output_type": "stream",
          "name": "stdout",
          "text": [
            "--2022-10-13 14:59:46--  https://ftp.uniprot.org/pub/databases/uniprot/current_release/knowledgebase/complete/uniprot_sprot.dat.gz\n",
            "Resolving ftp.uniprot.org (ftp.uniprot.org)... 128.175.240.195\n",
            "Connecting to ftp.uniprot.org (ftp.uniprot.org)|128.175.240.195|:443... connected.\n",
            "HTTP request sent, awaiting response... 200 OK\n",
            "Length: 642093634 (612M) [application/x-gzip]\n",
            "Saving to: ‘uniprot_sprot.dat.gz’\n",
            "\n",
            "uniprot_sprot.dat.g 100%[===================>] 612.35M   187MB/s    in 3.3s    \n",
            "\n",
            "2022-10-13 14:59:50 (187 MB/s) - ‘uniprot_sprot.dat.gz’ saved [642093634/642093634]\n",
            "\n"
          ]
        }
      ]
    },
    {
      "cell_type": "code",
      "source": [
        "!gzip -d uniprot_sprot.dat.gz"
      ],
      "metadata": {
        "id": "_7n4ZxdjWPxH"
      },
      "execution_count": 36,
      "outputs": []
    },
    {
      "cell_type": "code",
      "source": [
        "!grep Q55EH8 uniprot_sprot.dat"
      ],
      "metadata": {
        "colab": {
          "base_uri": "https://localhost:8080/"
        },
        "id": "-nbARM7PWy3z",
        "outputId": "c4c87fac-0cda-4127-89a3-ed00b7b3847c"
      },
      "execution_count": 37,
      "outputs": [
        {
          "output_type": "stream",
          "name": "stdout",
          "text": [
            "AC   Q55EH8;\n",
            "DR   AlphaFoldDB; Q55EH8; -.\n",
            "DR   SMR; Q55EH8; -.\n",
            "DR   PaxDb; Q55EH8; -.\n",
            "DR   InParanoid; Q55EH8; -.\n",
            "DR   PhylomeDB; Q55EH8; -.\n",
            "DR   PRO; PR:Q55EH8; -.\n"
          ]
        }
      ]
    }
  ]
}